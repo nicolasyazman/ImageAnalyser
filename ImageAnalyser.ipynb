{
  "nbformat": 4,
  "nbformat_minor": 0,
  "metadata": {
    "colab": {
      "provenance": [],
      "collapsed_sections": [],
      "toc_visible": true,
      "authorship_tag": "ABX9TyNDGaYB30MD5XsoJV6wZjsu",
      "include_colab_link": true
    },
    "kernelspec": {
      "name": "python3",
      "display_name": "Python 3"
    },
    "language_info": {
      "name": "python"
    }
  },
  "cells": [
    {
      "cell_type": "markdown",
      "metadata": {
        "id": "view-in-github",
        "colab_type": "text"
      },
      "source": [
        "<a href=\"https://colab.research.google.com/github/nicolasyazman/ImageAnalyser/blob/master/ImageAnalyser.ipynb\" target=\"_parent\"><img src=\"https://colab.research.google.com/assets/colab-badge.svg\" alt=\"Open In Colab\"/></a>"
      ]
    },
    {
      "cell_type": "code",
      "execution_count": null,
      "metadata": {
        "id": "ndowXKv0hNW4"
      },
      "outputs": [],
      "source": []
    },
    {
      "cell_type": "markdown",
      "source": [
        "## Image Analysing Notebook"
      ],
      "metadata": {
        "id": "3vLosdXLiWbB"
      }
    },
    {
      "cell_type": "markdown",
      "source": [
        "### Statements in Python\n",
        "\n"
      ],
      "metadata": {
        "id": "nr-Sh6N3jK91"
      }
    },
    {
      "cell_type": "code",
      "source": [
        "name = \"bob\"\n",
        "\n",
        "print(f\"hello {name}\")\n"
      ],
      "metadata": {
        "colab": {
          "base_uri": "https://localhost:8080/"
        },
        "id": "HSl2vecijah3",
        "outputId": "a3f02394-7dca-472f-fc92-3e87a962a7fd"
      },
      "execution_count": 1,
      "outputs": [
        {
          "output_type": "stream",
          "name": "stdout",
          "text": [
            "hello bob\n"
          ]
        }
      ]
    },
    {
      "cell_type": "markdown",
      "source": [],
      "metadata": {
        "id": "pCB-USlzjf_a"
      }
    }
  ]
}